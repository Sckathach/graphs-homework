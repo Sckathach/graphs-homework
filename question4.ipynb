{
 "cells": [
  {
   "cell_type": "code",
   "execution_count": 90,
   "id": "initial_id",
   "metadata": {
    "collapsed": true,
    "ExecuteTime": {
     "end_time": "2024-04-12T18:34:26.649049Z",
     "start_time": "2024-04-12T18:34:18.501920Z"
    }
   },
   "outputs": [],
   "source": [
    "import numpy as np \n",
    "import networkx as nx\n",
    "\n",
    "from link_prediction import generate_non_edges, JaccardCoefficient, CommonNeighbors, AdamicAdar\n",
    "\n",
    "def remove_random_edges(g, fraction):\n",
    "    mask = np.random.randint(0, 100, len(g.edges())) < fraction * 100\n",
    "    e_removed = np.array(g.edges())[mask]\n",
    "    g_train = g.copy()\n",
    "    g_train.remove_edges_from(e_removed)\n",
    "    return g_train, e_removed\n",
    "\n",
    "gfb = nx.read_gml('data/Johns Hopkins55.gml')\n",
    "\n",
    "fractions = [0.05, 0.1, 0.15, 0.2]\n",
    "k_values = [50, 100, 200, 400]\n",
    "\n",
    "f, k = 0.1, 50\n",
    "def generate_precision(f, k):\n",
    "    g_train, e_removed = remove_random_edges(gfb, f)\n",
    "    non_edges = generate_non_edges(g_train)\n",
    "\n",
    "    jp = JaccardCoefficient(g_train)\n",
    "    predictions_jp = jp.predict(non_edges)\n",
    "    cn = CommonNeighbors(g_train)\n",
    "    predictions_cn = cn.predict(non_edges)\n",
    "    aa = AdamicAdar(g_train)\n",
    "    predictions_aa = aa.predict(non_edges)\n",
    "    precisions = []\n",
    "    for p in [predictions_jp, predictions_cn, predictions_aa]: \n",
    "        predictions_sorted = np.argsort(p)[::-1][:k]\n",
    "        e_removed_tuples = [(u, v) for u, v in zip(e_removed[:,0], e_removed[:,1])]\n",
    "        \n",
    "        tp = 0\n",
    "        fp = 0\n",
    "        for x in predictions_sorted:\n",
    "            if non_edges[x] in e_removed_tuples:\n",
    "                tp += 1\n",
    "            else:\n",
    "                fp += 1\n",
    "        \n",
    "        precisions.append(tp / (tp + fp))\n",
    "    return precisions\n"
   ]
  },
  {
   "cell_type": "code",
   "outputs": [
    {
     "name": "stdout",
     "output_type": "stream",
     "text": [
      "Précision pour f = 0.05, k = 50 : [0.12, 0.5, 0.48]\n",
      "Précision pour f = 0.05, k = 100 : [0.33, 0.56, 0.52]\n",
      "Précision pour f = 0.05, k = 200 : [0.34, 0.55, 0.53]\n",
      "Précision pour f = 0.05, k = 400 : [0.335, 0.4975, 0.5225]\n",
      "Précision pour f = 0.1, k = 50 : [0.14, 0.76, 0.74]\n",
      "Précision pour f = 0.1, k = 100 : [0.42, 0.72, 0.73]\n",
      "Précision pour f = 0.1, k = 200 : [0.51, 0.73, 0.72]\n",
      "Précision pour f = 0.1, k = 400 : [0.4375, 0.685, 0.6775]\n",
      "Précision pour f = 0.15, k = 50 : [0.16, 0.86, 0.8]\n",
      "Précision pour f = 0.15, k = 100 : [0.47, 0.8, 0.76]\n",
      "Précision pour f = 0.15, k = 200 : [0.54, 0.835, 0.81]\n",
      "Précision pour f = 0.15, k = 400 : [0.5225, 0.7675, 0.7475]\n",
      "Précision pour f = 0.2, k = 50 : [0.24, 0.86, 0.84]\n",
      "Précision pour f = 0.2, k = 100 : [0.48, 0.89, 0.83]\n",
      "Précision pour f = 0.2, k = 200 : [0.57, 0.84, 0.84]\n",
      "Précision pour f = 0.2, k = 400 : [0.535, 0.8475, 0.8375]\n"
     ]
    }
   ],
   "source": [
    "import itertools\n",
    "for x, y in itertools.product(fractions, k_values):\n",
    "    print(f\"Précision pour f = {x}, k = {y} : {generate_precision(x, y)}\")"
   ],
   "metadata": {
    "collapsed": false,
    "ExecuteTime": {
     "end_time": "2024-04-12T20:09:10.621292Z",
     "start_time": "2024-04-12T18:34:26.650243Z"
    }
   },
   "id": "c821e305c37561ae",
   "execution_count": 91
  },
  {
   "cell_type": "markdown",
   "source": [
    "## Résultats pour Caltech\n",
    "Précision pour f = 0.05, k = 50 : [0.3, 0.46, 0.46]\n",
    "Précision pour f = 0.05, k = 100 : [0.32, 0.45, 0.47]\n",
    "Précision pour f = 0.05, k = 200 : [0.25, 0.35, 0.365]\n",
    "Précision pour f = 0.05, k = 400 : [0.2025, 0.23, 0.245]\n",
    "Précision pour f = 0.1, k = 50 : [0.38, 0.7, 0.72]\n",
    "Précision pour f = 0.1, k = 100 : [0.36, 0.6, 0.59]\n",
    "Précision pour f = 0.1, k = 200 : [0.345, 0.525, 0.535]\n",
    "Précision pour f = 0.1, k = 400 : [0.37, 0.45, 0.4625]\n",
    "Précision pour f = 0.15, k = 50 : [0.42, 0.78, 0.82]\n",
    "Précision pour f = 0.15, k = 100 : [0.52, 0.79, 0.76]\n",
    "Précision pour f = 0.15, k = 200 : [0.46, 0.665, 0.665]\n",
    "Précision pour f = 0.15, k = 400 : [0.4875, 0.5475, 0.555]\n",
    "Précision pour f = 0.2, k = 50 : [0.42, 0.88, 0.88]\n",
    "Précision pour f = 0.2, k = 100 : [0.55, 0.84, 0.84]\n",
    "Précision pour f = 0.2, k = 200 : [0.505, 0.715, 0.72]\n",
    "Précision pour f = 0.2, k = 400 : [0.5175, 0.68, 0.685]\n",
    "\n",
    "## Résultats pour Johns Hopkins\n",
    "Précision pour f = 0.05, k = 50 : [0.12, 0.5, 0.48]\n",
    "Précision pour f = 0.05, k = 100 : [0.33, 0.56, 0.52]\n",
    "Précision pour f = 0.05, k = 200 : [0.34, 0.55, 0.53]\n",
    "Précision pour f = 0.05, k = 400 : [0.335, 0.4975, 0.5225]\n",
    "Précision pour f = 0.1, k = 50 : [0.14, 0.76, 0.74]\n",
    "Précision pour f = 0.1, k = 100 : [0.42, 0.72, 0.73]\n",
    "Précision pour f = 0.1, k = 200 : [0.51, 0.73, 0.72]\n",
    "Précision pour f = 0.1, k = 400 : [0.4375, 0.685, 0.6775]\n",
    "Précision pour f = 0.15, k = 50 : [0.16, 0.86, 0.8]\n",
    "Précision pour f = 0.15, k = 100 : [0.47, 0.8, 0.76]\n",
    "Précision pour f = 0.15, k = 200 : [0.54, 0.835, 0.81]\n",
    "Précision pour f = 0.15, k = 400 : [0.5225, 0.7675, 0.7475]\n",
    "Précision pour f = 0.2, k = 50 : [0.24, 0.86, 0.84]\n",
    "Précision pour f = 0.2, k = 100 : [0.48, 0.89, 0.83]\n",
    "Précision pour f = 0.2, k = 200 : [0.57, 0.84, 0.84]\n",
    "Précision pour f = 0.2, k = 400 : [0.535, 0.8475, 0.8375]"
   ],
   "metadata": {
    "collapsed": false
   },
   "id": "83fce7192d95ed3f"
  },
  {
   "cell_type": "code",
   "outputs": [],
   "source": [],
   "metadata": {
    "collapsed": false
   },
   "id": "f161ef21be6e0a8e"
  }
 ],
 "metadata": {
  "kernelspec": {
   "display_name": "Python 3",
   "language": "python",
   "name": "python3"
  },
  "language_info": {
   "codemirror_mode": {
    "name": "ipython",
    "version": 2
   },
   "file_extension": ".py",
   "mimetype": "text/x-python",
   "name": "python",
   "nbconvert_exporter": "python",
   "pygments_lexer": "ipython2",
   "version": "2.7.6"
  }
 },
 "nbformat": 4,
 "nbformat_minor": 5
}

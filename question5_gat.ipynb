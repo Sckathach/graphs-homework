{
 "cells": [
  {
   "cell_type": "code",
   "execution_count": 59,
   "id": "initial_id",
   "metadata": {
    "collapsed": true,
    "ExecuteTime": {
     "end_time": "2024-04-13T19:43:54.952553Z",
     "start_time": "2024-04-13T19:43:54.949009Z"
    }
   },
   "outputs": [],
   "source": [
    "import networkx as nx \n",
    "import torch \n",
    "import torch.nn.functional as F\n",
    "from torch_geometric.nn import GATConv\n",
    "from torch_geometric.utils import from_networkx, train_test_split_edges, to_undirected\n",
    "from sklearn.preprocessing import OneHotEncoder\n",
    "import numpy as np"
   ]
  },
  {
   "cell_type": "code",
   "outputs": [
    {
     "data": {
      "text/plain": "True"
     },
     "execution_count": 4,
     "metadata": {},
     "output_type": "execute_result"
    }
   ],
   "source": [
    "torch.cuda.is_available()"
   ],
   "metadata": {
    "collapsed": false,
    "ExecuteTime": {
     "end_time": "2024-04-13T18:10:36.588181Z",
     "start_time": "2024-04-13T18:10:36.581154Z"
    }
   },
   "id": "2cee24506c76fe31",
   "execution_count": 4
  },
  {
   "cell_type": "code",
   "outputs": [],
   "source": [
    "g = nx.read_gml(\"data/Caltech36.gml\")\n",
    "data = from_networkx(g)\n",
    "\n",
    "gender = nx.get_node_attributes(g, \"gender\")\n",
    "dorm = nx.get_node_attributes(g, \"dorm\")\n",
    "student_fac = nx.get_node_attributes(g, \"student_fac\")\n",
    "major_index = nx.get_node_attributes(g, \"major_index\")\n",
    "\n",
    "encoder = OneHotEncoder()\n",
    "features = np.array([[gender[x], dorm[x], student_fac[x]] for x in g.nodes()])\n",
    "y_true = np.array([[major_index[x]] for x in g.nodes()])\n",
    "features_encoded = encoder.fit_transform(features).toarray()\n",
    "y_true_encoded = encoder.fit_transform(y_true).toarray()\n",
    "features_tensor = torch.tensor(features_encoded, dtype=torch.float)\n",
    "y_true_tensor = torch.tensor(y_true_encoded, dtype=torch.float)\n",
    "data.x = features_tensor\n",
    "data.y = y_true_tensor"
   ],
   "metadata": {
    "collapsed": false,
    "ExecuteTime": {
     "end_time": "2024-04-13T19:44:20.066120Z",
     "start_time": "2024-04-13T19:44:18.964911Z"
    }
   },
   "id": "4a40c69721ba88cc",
   "execution_count": 61
  },
  {
   "cell_type": "code",
   "outputs": [],
   "source": [
    "edges = np.array(g.edges(), dtype=np.int_).T\n",
    "edge_index = torch.tensor(edges)\n",
    "data.edge_index = to_undirected(edge_index)"
   ],
   "metadata": {
    "collapsed": false,
    "ExecuteTime": {
     "end_time": "2024-04-13T19:44:20.829680Z",
     "start_time": "2024-04-13T19:44:20.810962Z"
    }
   },
   "id": "c5b9838eb8b59337",
   "execution_count": 62
  },
  {
   "cell_type": "code",
   "outputs": [
    {
     "data": {
      "text/plain": "Data(edge_index=[2, 33312], student_fac=[769], gender=[769], major_index=[769], second_major=[769], dorm=[769], year=[769], high_school=[769], num_nodes=769, x=[769, 16], y=[769, 31])"
     },
     "execution_count": 63,
     "metadata": {},
     "output_type": "execute_result"
    }
   ],
   "source": [
    "data"
   ],
   "metadata": {
    "collapsed": false,
    "ExecuteTime": {
     "end_time": "2024-04-13T19:44:47.273537Z",
     "start_time": "2024-04-13T19:44:47.269670Z"
    }
   },
   "id": "a0ee0d99c555b275",
   "execution_count": 63
  },
  {
   "cell_type": "code",
   "outputs": [],
   "source": [],
   "metadata": {
    "collapsed": false
   },
   "id": "d69793208f0efbe2"
  }
 ],
 "metadata": {
  "kernelspec": {
   "display_name": "Python 3",
   "language": "python",
   "name": "python3"
  },
  "language_info": {
   "codemirror_mode": {
    "name": "ipython",
    "version": 2
   },
   "file_extension": ".py",
   "mimetype": "text/x-python",
   "name": "python",
   "nbconvert_exporter": "python",
   "pygments_lexer": "ipython2",
   "version": "2.7.6"
  }
 },
 "nbformat": 4,
 "nbformat_minor": 5
}

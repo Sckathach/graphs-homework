{
 "cells": [
  {
   "cell_type": "code",
   "execution_count": null,
   "id": "initial_id",
   "metadata": {
    "collapsed": true
   },
   "outputs": [],
   "source": [
    "import random\n",
    "import networkx as nx\n",
    "\n",
    "from link_prediction import generate_non_edges\n",
    "\n",
    "def remove_random_edges(g, fraction):\n",
    "    edge_subset = random.sample(g.edges(), int(fraction * g.number_of_edges()))\n",
    "    g_train = g.copy()\n",
    "    g_train.remove_edges_from(edge_subset)\n",
    "    return g_train, edge_subset\n",
    "\n",
    "# Assuming you have a function to compute prediction scores\n",
    "def compute_prediction_scores(G, non_edges):\n",
    "    # This function should return a list of tuples (node1, node2, score)\n",
    "    # where score is the output of the link prediction algorithm for node1 and node2.\n",
    "    pass\n",
    "\n",
    "# Load your graph Gfb\n",
    "gfb = nx.read_gml('path_to_gml_file.gml')\n",
    "\n",
    "fractions = [0.05, 0.1, 0.15, 0.2]\n",
    "predictions = {}\n",
    "\n",
    "for f in fractions:\n",
    "    # Randomly remove edges\n",
    "    g_train, e_removed = remove_random_edges(gfb, f)\n",
    "    \n",
    "    # Generate non-edge node pairs for the graph\n",
    "    non_edges = generate_non_edges(g_train)\n",
    "    \n",
    "    # Compute prediction scores\n",
    "    prediction_scores = compute_prediction_scores(g_train, non_edges)\n",
    "    \n",
    "    # Sort node pairs by prediction scores in descending order\n",
    "    sorted_predictions = sorted(prediction_scores, key=lambda x: x[2], reverse=True)\n",
    "    \n",
    "    # Decide how many top pairs you want to consider as predicted links\n",
    "    k = len(e_removed)  # You might choose k to be the number of removed edges\n",
    "    e_predict = sorted_predictions[:k]\n",
    "    \n",
    "    predictions[f] = e_predict\n",
    "\n",
    "# At this point, 'predictions' contains the top 'k' predictions for each fraction 'f'.\n"
   ]
  }
 ],
 "metadata": {
  "kernelspec": {
   "display_name": "Python 3",
   "language": "python",
   "name": "python3"
  },
  "language_info": {
   "codemirror_mode": {
    "name": "ipython",
    "version": 2
   },
   "file_extension": ".py",
   "mimetype": "text/x-python",
   "name": "python",
   "nbconvert_exporter": "python",
   "pygments_lexer": "ipython2",
   "version": "2.7.6"
  }
 },
 "nbformat": 4,
 "nbformat_minor": 5
}

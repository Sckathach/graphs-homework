{
 "cells": [
  {
   "cell_type": "code",
   "outputs": [],
   "source": [
    "import networkx as nx\n",
    "import numpy as np "
   ],
   "metadata": {
    "collapsed": false,
    "ExecuteTime": {
     "end_time": "2024-04-14T14:56:00.412420Z",
     "start_time": "2024-04-14T14:56:00.147152Z"
    }
   },
   "id": "ce3aa050770ba61c",
   "execution_count": 1
  },
  {
   "cell_type": "code",
   "outputs": [
    {
     "name": "stdout",
     "output_type": "stream",
     "text": [
      "Attribute: major_index, remove fraction: 0.1, score: 0.23157894736842105\n",
      "Attribute: major_index, remove fraction: 0.2, score: 0.23137254901960783\n",
      "Attribute: major_index, remove fraction: 0.3, score: 0.21000000000000002\n",
      "Attribute: major_index, remove fraction: 0.4, score: 0.19153094462540718\n",
      "Attribute: dorm, remove fraction: 0.1, score: 0.6486842105263158\n",
      "Attribute: dorm, remove fraction: 0.2, score: 0.6535947712418302\n",
      "Attribute: dorm, remove fraction: 0.3, score: 0.6630434782608695\n",
      "Attribute: dorm, remove fraction: 0.4, score: 0.6758957654723127\n",
      "Attribute: year, remove fraction: 0.1, score: 0.6210526315789474\n",
      "Attribute: year, remove fraction: 0.2, score: 0.6071895424836601\n",
      "Attribute: year, remove fraction: 0.3, score: 0.5847826086956521\n",
      "Attribute: year, remove fraction: 0.4, score: 0.6022801302931595\n",
      "Attribute: gender, remove fraction: 0.1, score: 0.5960526315789474\n",
      "Attribute: gender, remove fraction: 0.2, score: 0.580392156862745\n",
      "Attribute: gender, remove fraction: 0.3, score: 0.6043478260869565\n",
      "Attribute: gender, remove fraction: 0.4, score: 0.6065146579804561\n"
     ]
    }
   ],
   "source": [
    "remove_fraction = 0.1\n",
    "attribute = \"major_index\"\n",
    "max_iter = 100\n",
    "eps = 1e-3\n",
    "alpha = 0.5\n",
    "data = \"data/Caltech36.gml\"\n",
    "iterations = 10\n",
    "\n",
    "for attribute in [\"major_index\", \"dorm\", \"year\", \"gender\"]:\n",
    "    for remove_fraction in [0.1, 0.2, 0.3, 0.4]:\n",
    "        score = []\n",
    "        for _ in range(iterations):\n",
    "            graph = nx.read_gml(data)\n",
    "            graph_original = nx.read_gml(data)\n",
    "\n",
    "            nodes = list(graph.nodes())\n",
    "            np.random.shuffle(nodes)\n",
    "            removed = []\n",
    "            for node in nodes[:int(len(nodes) * remove_fraction)]:\n",
    "                if attribute in graph.nodes[node]:\n",
    "                    removed.append(node)\n",
    "                    graph.nodes[node][attribute] = 0\n",
    "\n",
    "            a = nx.adjacency_matrix(graph)\n",
    "            d_inv_sqrt = np.diag([1/np.sqrt(x) if x != 0 else 0 for x in np.sum(a, axis=1)])\n",
    "            s = d_inv_sqrt @ a @ d_inv_sqrt\n",
    "\n",
    "            # y_init = np.array([[1 if graph.nodes[node][attribute] == 1 else 0, 1 if graph.nodes[node][attribute] == 2 else 0] for node in graph])\n",
    "            from sklearn.preprocessing import OneHotEncoder\n",
    "            encoder = OneHotEncoder()\n",
    "\n",
    "            y_true = [[graph_original.nodes[node][attribute]] for node in graph]\n",
    "            y_true = encoder.fit_transform(y_true).toarray()\n",
    "            y_init = [[graph.nodes[node][attribute]] for node in graph]\n",
    "            y_init = encoder.transform(y_init).toarray()\n",
    "            y_init = y_init[:,1:]\n",
    "            y_true = y_true[:,1:]\n",
    "\n",
    "            y = y_init.copy()\n",
    "\n",
    "            for _ in range(max_iter):\n",
    "                y_new = alpha * s @ y + (1 - alpha) * y_init\n",
    "                if np.linalg.norm(y - y_new, 1) < eps:  \n",
    "                    break\n",
    "                y = y_new\n",
    "\n",
    "            # for idx, node in enumerate(graph.nodes()):\n",
    "            #     graph.nodes[node][attribute] = np.argmax(y[idx]) + 1\n",
    "\n",
    "            success, failures = 0, 0\n",
    "            for node in graph:\n",
    "                if node in removed:\n",
    "                    if y_true[int(node)][np.argmax(y[int(node)])] == 1:\n",
    "                        success += 1\n",
    "                    else:\n",
    "                        failures += 1\n",
    "\n",
    "            score.append(success / (success + failures))\n",
    "        print(f\"Attribute: {attribute}, remove fraction: {remove_fraction}, score: {np.mean(score)}\")"
   ],
   "metadata": {
    "collapsed": false,
    "ExecuteTime": {
     "end_time": "2024-04-14T15:42:39.283210Z",
     "start_time": "2024-04-14T15:39:07.130347Z"
    }
   },
   "id": "1a05fb4f986af6cc",
   "execution_count": 51
  },
  {
   "cell_type": "markdown",
   "source": [
    "Attribute: major_index, remove fraction: 0.1, score: 0.23157894736842105\n",
    "Attribute: major_index, remove fraction: 0.2, score: 0.23137254901960783\n",
    "Attribute: major_index, remove fraction: 0.3, score: 0.21000000000000002\n",
    "Attribute: major_index, remove fraction: 0.4, score: 0.19153094462540718\n",
    "Attribute: dorm, remove fraction: 0.1, score: 0.6486842105263158\n",
    "Attribute: dorm, remove fraction: 0.2, score: 0.6535947712418302\n",
    "Attribute: dorm, remove fraction: 0.3, score: 0.6630434782608695\n",
    "Attribute: dorm, remove fraction: 0.4, score: 0.6758957654723127\n",
    "Attribute: year, remove fraction: 0.1, score: 0.6210526315789474\n",
    "Attribute: year, remove fraction: 0.2, score: 0.6071895424836601\n",
    "Attribute: year, remove fraction: 0.3, score: 0.5847826086956521\n",
    "Attribute: year, remove fraction: 0.4, score: 0.6022801302931595\n",
    "Attribute: gender, remove fraction: 0.1, score: 0.5960526315789474\n",
    "Attribute: gender, remove fraction: 0.2, score: 0.580392156862745\n",
    "Attribute: gender, remove fraction: 0.3, score: 0.6043478260869565\n",
    "Attribute: gender, remove fraction: 0.4, score: 0.6065146579804561"
   ],
   "metadata": {
    "collapsed": false
   },
   "id": "e4f2707a7eab94e2"
  },
  {
   "cell_type": "code",
   "outputs": [],
   "source": [],
   "metadata": {
    "collapsed": false
   },
   "id": "7e1743706a8f27de"
  }
 ],
 "metadata": {
  "kernelspec": {
   "display_name": "Python 3",
   "language": "python",
   "name": "python3"
  },
  "language_info": {
   "codemirror_mode": {
    "name": "ipython",
    "version": 2
   },
   "file_extension": ".py",
   "mimetype": "text/x-python",
   "name": "python",
   "nbconvert_exporter": "python",
   "pygments_lexer": "ipython2",
   "version": "2.7.6"
  }
 },
 "nbformat": 4,
 "nbformat_minor": 5
}

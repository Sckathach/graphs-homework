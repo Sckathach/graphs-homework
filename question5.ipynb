{
 "cells": [
  {
   "cell_type": "code",
   "outputs": [],
   "source": [
    "import networkx as nx\n",
    "import numpy as np "
   ],
   "metadata": {
    "collapsed": false
   },
   "id": "ce3aa050770ba61c",
   "execution_count": null
  },
  {
   "cell_type": "code",
   "outputs": [
    {
     "name": "stdout",
     "output_type": "stream",
     "text": [
      "0.678082191780822\n"
     ]
    }
   ],
   "source": [
    "remove_fraction = 0.2\n",
    "attribute = \"gender\"\n",
    "max_iter = 100\n",
    "eps = 1e-3\n",
    "none_value = 0\n",
    "alpha = 0.5\n",
    "data = \"data/Caltech36.gml\"\n",
    "\n",
    "\n",
    "graph = nx.read_gml(data)\n",
    "graph_original = nx.read_gml(data)\n",
    "\n",
    "nodes = list(graph.nodes())\n",
    "np.random.shuffle(nodes)\n",
    "removed = []\n",
    "for node in nodes[:int(len(nodes) * remove_fraction)]:\n",
    "    if attribute in graph.nodes[node]:\n",
    "        removed.append(node)\n",
    "        graph.nodes[node][attribute] = none_value\n",
    "\n",
    "a = nx.adjacency_matrix(graph)\n",
    "d_inv_sqrt = np.diag([1/np.sqrt(x) if x != 0 else 0 for x in np.sum(a, axis=1)])\n",
    "s = d_inv_sqrt @ a @ d_inv_sqrt\n",
    "\n",
    "y_init = np.array([[1 if graph.nodes[node][attribute] == 1 else 0, 1 if graph.nodes[node][attribute] == 2 else 0] for node in graph])\n",
    "y = y_init.copy()\n",
    "\n",
    "for _ in range(max_iter):\n",
    "    y_new = alpha * s @ y + (1 - alpha) * y_init\n",
    "    if np.linalg.norm(y - y_new, 1) < eps:  \n",
    "        break\n",
    "    y = y_new\n",
    "\n",
    "for idx, node in enumerate(graph.nodes()):\n",
    "    graph.nodes[node][attribute] = np.argmax(y[idx]) + 1\n",
    "\n",
    "success, failures = 0, 0\n",
    "for node in graph:\n",
    "    if node in removed:\n",
    "        x, y = graph_original.nodes[node]['gender'], graph.nodes[node]['gender']\n",
    "        if x != 0:\n",
    "            if x == y:\n",
    "                success += 1\n",
    "            else:\n",
    "                failures += 1\n",
    "\n",
    "print(success / (success + failures))"
   ],
   "metadata": {
    "collapsed": false,
    "ExecuteTime": {
     "end_time": "2024-04-14T13:27:43.409362Z",
     "start_time": "2024-04-14T13:27:42.358943Z"
    }
   },
   "id": "1a05fb4f986af6cc",
   "execution_count": 45
  },
  {
   "cell_type": "markdown",
   "source": [
    "gender 0.3 0.65\n",
    "0.4 0.64\n",
    "0.1 0.68\n",
    "0.2 0.65"
   ],
   "metadata": {
    "collapsed": false
   },
   "id": "e4f2707a7eab94e2"
  },
  {
   "cell_type": "code",
   "outputs": [],
   "source": [],
   "metadata": {
    "collapsed": false
   },
   "id": "e72ab56c0a1d778a",
   "execution_count": null
  }
 ],
 "metadata": {
  "kernelspec": {
   "display_name": "Python 3",
   "language": "python",
   "name": "python3"
  },
  "language_info": {
   "codemirror_mode": {
    "name": "ipython",
    "version": 2
   },
   "file_extension": ".py",
   "mimetype": "text/x-python",
   "name": "python",
   "nbconvert_exporter": "python",
   "pygments_lexer": "ipython2",
   "version": "2.7.6"
  }
 },
 "nbformat": 4,
 "nbformat_minor": 5
}

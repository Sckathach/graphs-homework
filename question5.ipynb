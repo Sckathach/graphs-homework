{
  "cells": [
    {
      "cell_type": "code",
      "outputs": [],
      "source": [
        "import networkx as nx\n",
        "import numpy as np "
      ],
      "metadata": {
        "collapsed": false,
        "ExecuteTime": {
          "end_time": "2024-04-15T14:57:52.441958Z",
          "start_time": "2024-04-15T14:57:52.087263Z"
        }
      },
      "id": "ce3aa050770ba61c",
      "execution_count": 1
    },
    {
      "cell_type": "code",
      "outputs": [
        {
          "name": "stdout",
          "output_type": "stream",
          "text": [
            "Attribute: major_index, remove fraction: 0.1, score: 0.2576086956521739\n",
            "Attribute: major_index, remove fraction: 0.2, score: 0.2533385093167702\n",
            "Attribute: major_index, remove fraction: 0.3, score: 0.2494824016563147\n",
            "Attribute: major_index, remove fraction: 0.4, score: 0.2516692546583851\n",
            "Attribute: dorm, remove fraction: 0.1, score: 0.5347826086956522\n",
            "Attribute: dorm, remove fraction: 0.2, score: 0.5354813664596273\n",
            "Attribute: dorm, remove fraction: 0.3, score: 0.5339026915113871\n",
            "Attribute: dorm, remove fraction: 0.4, score: 0.5267857142857143\n"
          ]
        },
        {
          "ename": "KeyboardInterrupt",
          "evalue": "",
          "output_type": "error",
          "traceback": [
            "\u001b[0;31m---------------------------------------------------------------------------\u001b[0m",
            "\u001b[0;31mKeyboardInterrupt\u001b[0m                         Traceback (most recent call last)",
            "Cell \u001b[0;32mIn[3], line 26\u001b[0m\n\u001b[1;32m     24\u001b[0m a \u001b[38;5;241m=\u001b[39m nx\u001b[38;5;241m.\u001b[39madjacency_matrix(graph)\n\u001b[1;32m     25\u001b[0m d_inv_sqrt \u001b[38;5;241m=\u001b[39m np\u001b[38;5;241m.\u001b[39mdiag([\u001b[38;5;241m1\u001b[39m\u001b[38;5;241m/\u001b[39mnp\u001b[38;5;241m.\u001b[39msqrt(x) \u001b[38;5;28;01mif\u001b[39;00m x \u001b[38;5;241m!=\u001b[39m \u001b[38;5;241m0\u001b[39m \u001b[38;5;28;01melse\u001b[39;00m \u001b[38;5;241m0\u001b[39m \u001b[38;5;28;01mfor\u001b[39;00m x \u001b[38;5;129;01min\u001b[39;00m np\u001b[38;5;241m.\u001b[39msum(a, axis\u001b[38;5;241m=\u001b[39m\u001b[38;5;241m1\u001b[39m)])\n\u001b[0;32m---> 26\u001b[0m s \u001b[38;5;241m=\u001b[39m \u001b[43md_inv_sqrt\u001b[49m\u001b[43m \u001b[49m\u001b[38;5;241;43m@\u001b[39;49m\u001b[43m \u001b[49m\u001b[43ma\u001b[49m \u001b[38;5;241m@\u001b[39m d_inv_sqrt\n\u001b[1;32m     28\u001b[0m \u001b[38;5;66;03m# y_init = np.array([[1 if graph.nodes[node][attribute] == 1 else 0, 1 if graph.nodes[node][attribute] == 2 else 0] for node in graph])\u001b[39;00m\n\u001b[1;32m     29\u001b[0m \u001b[38;5;28;01mfrom\u001b[39;00m \u001b[38;5;21;01msklearn\u001b[39;00m\u001b[38;5;21;01m.\u001b[39;00m\u001b[38;5;21;01mpreprocessing\u001b[39;00m \u001b[38;5;28;01mimport\u001b[39;00m OneHotEncoder\n",
            "File \u001b[0;32m~/Desktop/graph-homework/.venv/lib/python3.11/site-packages/scipy/sparse/_base.py:701\u001b[0m, in \u001b[0;36m_spbase.__rmatmul__\u001b[0;34m(self, other)\u001b[0m\n\u001b[1;32m    698\u001b[0m \u001b[38;5;28;01mif\u001b[39;00m isscalarlike(other):\n\u001b[1;32m    699\u001b[0m     \u001b[38;5;28;01mraise\u001b[39;00m \u001b[38;5;167;01mValueError\u001b[39;00m(\u001b[38;5;124m\"\u001b[39m\u001b[38;5;124mScalar operands are not allowed, \u001b[39m\u001b[38;5;124m\"\u001b[39m\n\u001b[1;32m    700\u001b[0m                      \u001b[38;5;124m\"\u001b[39m\u001b[38;5;124muse \u001b[39m\u001b[38;5;124m'\u001b[39m\u001b[38;5;124m*\u001b[39m\u001b[38;5;124m'\u001b[39m\u001b[38;5;124m instead\u001b[39m\u001b[38;5;124m\"\u001b[39m)\n\u001b[0;32m--> 701\u001b[0m \u001b[38;5;28;01mreturn\u001b[39;00m \u001b[38;5;28;43mself\u001b[39;49m\u001b[38;5;241;43m.\u001b[39;49m\u001b[43m_rmatmul_dispatch\u001b[49m\u001b[43m(\u001b[49m\u001b[43mother\u001b[49m\u001b[43m)\u001b[49m\n",
            "File \u001b[0;32m~/Desktop/graph-homework/.venv/lib/python3.11/site-packages/scipy/sparse/_base.py:682\u001b[0m, in \u001b[0;36m_spbase._rmatmul_dispatch\u001b[0;34m(self, other)\u001b[0m\n\u001b[1;32m    680\u001b[0m \u001b[38;5;28;01mexcept\u001b[39;00m \u001b[38;5;167;01mAttributeError\u001b[39;00m:\n\u001b[1;32m    681\u001b[0m     tr \u001b[38;5;241m=\u001b[39m np\u001b[38;5;241m.\u001b[39masarray(other)\u001b[38;5;241m.\u001b[39mtranspose()\n\u001b[0;32m--> 682\u001b[0m ret \u001b[38;5;241m=\u001b[39m \u001b[38;5;28;43mself\u001b[39;49m\u001b[38;5;241;43m.\u001b[39;49m\u001b[43mtranspose\u001b[49m\u001b[43m(\u001b[49m\u001b[43m)\u001b[49m\u001b[38;5;241;43m.\u001b[39;49m\u001b[43m_matmul_dispatch\u001b[49m\u001b[43m(\u001b[49m\u001b[43mtr\u001b[49m\u001b[43m)\u001b[49m\n\u001b[1;32m    683\u001b[0m \u001b[38;5;28;01mif\u001b[39;00m ret \u001b[38;5;129;01mis\u001b[39;00m \u001b[38;5;28mNotImplemented\u001b[39m:\n\u001b[1;32m    684\u001b[0m     \u001b[38;5;28;01mreturn\u001b[39;00m \u001b[38;5;28mNotImplemented\u001b[39m\n",
            "File \u001b[0;32m~/Desktop/graph-homework/.venv/lib/python3.11/site-packages/scipy/sparse/_base.py:595\u001b[0m, in \u001b[0;36m_spbase._matmul_dispatch\u001b[0;34m(self, other)\u001b[0m\n\u001b[1;32m    593\u001b[0m         \u001b[38;5;28;01mreturn\u001b[39;00m result\u001b[38;5;241m.\u001b[39mreshape(M, \u001b[38;5;241m1\u001b[39m)\n\u001b[1;32m    594\u001b[0m     \u001b[38;5;28;01melif\u001b[39;00m other\u001b[38;5;241m.\u001b[39mndim \u001b[38;5;241m==\u001b[39m \u001b[38;5;241m2\u001b[39m \u001b[38;5;129;01mand\u001b[39;00m other\u001b[38;5;241m.\u001b[39mshape[\u001b[38;5;241m0\u001b[39m] \u001b[38;5;241m==\u001b[39m N:\n\u001b[0;32m--> 595\u001b[0m         \u001b[38;5;28;01mreturn\u001b[39;00m \u001b[38;5;28;43mself\u001b[39;49m\u001b[38;5;241;43m.\u001b[39;49m\u001b[43m_matmul_multivector\u001b[49m\u001b[43m(\u001b[49m\u001b[43mother\u001b[49m\u001b[43m)\u001b[49m\n\u001b[1;32m    597\u001b[0m \u001b[38;5;28;01mif\u001b[39;00m isscalarlike(other):\n\u001b[1;32m    598\u001b[0m     \u001b[38;5;66;03m# scalar value\u001b[39;00m\n\u001b[1;32m    599\u001b[0m     \u001b[38;5;28;01mreturn\u001b[39;00m \u001b[38;5;28mself\u001b[39m\u001b[38;5;241m.\u001b[39m_mul_scalar(other)\n",
            "File \u001b[0;32m~/Desktop/graph-homework/.venv/lib/python3.11/site-packages/scipy/sparse/_compressed.py:499\u001b[0m, in \u001b[0;36m_cs_matrix._matmul_multivector\u001b[0;34m(self, other)\u001b[0m\n\u001b[1;32m    497\u001b[0m \u001b[38;5;66;03m# csr_matvecs or csc_matvecs\u001b[39;00m\n\u001b[1;32m    498\u001b[0m fn \u001b[38;5;241m=\u001b[39m \u001b[38;5;28mgetattr\u001b[39m(_sparsetools, \u001b[38;5;28mself\u001b[39m\u001b[38;5;241m.\u001b[39mformat \u001b[38;5;241m+\u001b[39m \u001b[38;5;124m'\u001b[39m\u001b[38;5;124m_matvecs\u001b[39m\u001b[38;5;124m'\u001b[39m)\n\u001b[0;32m--> 499\u001b[0m \u001b[43mfn\u001b[49m\u001b[43m(\u001b[49m\u001b[43mM\u001b[49m\u001b[43m,\u001b[49m\u001b[43m \u001b[49m\u001b[43mN\u001b[49m\u001b[43m,\u001b[49m\u001b[43m \u001b[49m\u001b[43mn_vecs\u001b[49m\u001b[43m,\u001b[49m\u001b[43m \u001b[49m\u001b[38;5;28;43mself\u001b[39;49m\u001b[38;5;241;43m.\u001b[39;49m\u001b[43mindptr\u001b[49m\u001b[43m,\u001b[49m\u001b[43m \u001b[49m\u001b[38;5;28;43mself\u001b[39;49m\u001b[38;5;241;43m.\u001b[39;49m\u001b[43mindices\u001b[49m\u001b[43m,\u001b[49m\u001b[43m \u001b[49m\u001b[38;5;28;43mself\u001b[39;49m\u001b[38;5;241;43m.\u001b[39;49m\u001b[43mdata\u001b[49m\u001b[43m,\u001b[49m\n\u001b[1;32m    500\u001b[0m \u001b[43m   \u001b[49m\u001b[43mother\u001b[49m\u001b[38;5;241;43m.\u001b[39;49m\u001b[43mravel\u001b[49m\u001b[43m(\u001b[49m\u001b[43m)\u001b[49m\u001b[43m,\u001b[49m\u001b[43m \u001b[49m\u001b[43mresult\u001b[49m\u001b[38;5;241;43m.\u001b[39;49m\u001b[43mravel\u001b[49m\u001b[43m(\u001b[49m\u001b[43m)\u001b[49m\u001b[43m)\u001b[49m\n\u001b[1;32m    502\u001b[0m \u001b[38;5;28;01mreturn\u001b[39;00m result\n",
            "\u001b[0;31mKeyboardInterrupt\u001b[0m: "
          ]
        }
      ],
      "source": [
        "remove_fraction = 0.1\n",
        "attribute = \"major_index\"\n",
        "max_iter = 100\n",
        "eps = 1e-3\n",
        "alpha = 0.5\n",
        "data = \"data/MIT8.gml\"\n",
        "iterations = 10\n",
        "\n",
        "for attribute in [\"major_index\", \"dorm\", \"year\", \"gender\"]:\n",
        "    for remove_fraction in [0.1, 0.2, 0.3, 0.4]:\n",
        "        score = []\n",
        "        for _ in range(iterations):\n",
        "            graph = nx.read_gml(data)\n",
        "            graph_original = nx.read_gml(data)\n",
        "\n",
        "            nodes = list(graph.nodes())\n",
        "            np.random.shuffle(nodes)\n",
        "            removed = []\n",
        "            for node in nodes[:int(len(nodes) * remove_fraction)]:\n",
        "                if attribute in graph.nodes[node]:\n",
        "                    removed.append(node)\n",
        "                    graph.nodes[node][attribute] = 0\n",
        "\n",
        "            a = nx.adjacency_matrix(graph)\n",
        "            d_inv_sqrt = np.diag([1/np.sqrt(x) if x != 0 else 0 for x in np.sum(a, axis=1)])\n",
        "            s = d_inv_sqrt @ a @ d_inv_sqrt\n",
        "\n",
        "            # y_init = np.array([[1 if graph.nodes[node][attribute] == 1 else 0, 1 if graph.nodes[node][attribute] == 2 else 0] for node in graph])\n",
        "            from sklearn.preprocessing import OneHotEncoder\n",
        "            encoder = OneHotEncoder()\n",
        "\n",
        "            y_true = [[graph_original.nodes[node][attribute]] for node in graph]\n",
        "            y_true = encoder.fit_transform(y_true).toarray()\n",
        "            y_init = [[graph.nodes[node][attribute]] for node in graph]\n",
        "            y_init = encoder.transform(y_init).toarray()\n",
        "            y_init = y_init[:,1:]\n",
        "            y_true = y_true[:,1:]\n",
        "\n",
        "            y = y_init.copy()\n",
        "\n",
        "            for _ in range(max_iter):\n",
        "                y_new = alpha * s @ y + (1 - alpha) * y_init\n",
        "                if np.linalg.norm(y - y_new, 1) < eps:  \n",
        "                    break\n",
        "                y = y_new\n",
        "\n",
        "            # for idx, node in enumerate(graph.nodes()):\n",
        "            #     graph.nodes[node][attribute] = np.argmax(y[idx]) + 1\n",
        "\n",
        "            success, failures = 0, 0\n",
        "            for node in graph:\n",
        "                if node in removed:\n",
        "                    if y_true[int(node)][np.argmax(y[int(node)])] == 1:\n",
        "                        success += 1\n",
        "                    else:\n",
        "                        failures += 1\n",
        "\n",
        "            score.append(success / (success + failures))\n",
        "        print(f\"Attribute: {attribute}, remove fraction: {remove_fraction}, score: {np.mean(score)}\")"
      ],
      "metadata": {
        "collapsed": false,
        "ExecuteTime": {
          "end_time": "2024-04-15T15:38:45.640345Z",
          "start_time": "2024-04-15T14:57:52.443157Z"
        }
      },
      "id": "1a05fb4f986af6cc",
      "execution_count": 2
    },
    {
      "cell_type": "markdown",
      "source": [
        "## Caltech\n",
        "\n",
        "Attribute: major_index, remove fraction: 0.1, score: 0.23157894736842105\n",
        "Attribute: major_index, remove fraction: 0.2, score: 0.23137254901960783\n",
        "Attribute: major_index, remove fraction: 0.3, score: 0.21000000000000002\n",
        "Attribute: major_index, remove fraction: 0.4, score: 0.19153094462540718\n",
        "Attribute: dorm, remove fraction: 0.1, score: 0.6486842105263158\n",
        "Attribute: dorm, remove fraction: 0.2, score: 0.6535947712418302\n",
        "Attribute: dorm, remove fraction: 0.3, score: 0.6630434782608695\n",
        "Attribute: dorm, remove fraction: 0.4, score: 0.6758957654723127\n",
        "Attribute: year, remove fraction: 0.1, score: 0.6210526315789474\n",
        "Attribute: year, remove fraction: 0.2, score: 0.6071895424836601\n",
        "Attribute: year, remove fraction: 0.3, score: 0.5847826086956521\n",
        "Attribute: year, remove fraction: 0.4, score: 0.6022801302931595\n",
        "Attribute: gender, remove fraction: 0.1, score: 0.5960526315789474\n",
        "Attribute: gender, remove fraction: 0.2, score: 0.580392156862745\n",
        "Attribute: gender, remove fraction: 0.3, score: 0.6043478260869565\n",
        "Attribute: gender, remove fraction: 0.4, score: 0.6065146579804561"
      ],
      "metadata": {
        "collapsed": false
      },
      "id": "e4f2707a7eab94e2"
    },
    {
      "cell_type": "code",
      "outputs": [],
      "source": [],
      "metadata": {
        "collapsed": false
      },
      "id": "7e1743706a8f27de",
      "execution_count": 3
    }
  ],
  "metadata": {
    "kernelspec": {
      "display_name": "Python 3",
      "language": "python",
      "name": "python3"
    },
    "language_info": {
      "codemirror_mode": {
        "name": "ipython",
        "version": 2
      },
      "file_extension": ".py",
      "mimetype": "text/x-python",
      "name": "python",
      "nbconvert_exporter": "python",
      "pygments_lexer": "ipython2",
      "version": "2.7.6"
    }
  },
  "nbformat": 4,
  "nbformat_minor": 5
}
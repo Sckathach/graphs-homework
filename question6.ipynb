{
 "cells": [
  {
   "cell_type": "code",
   "execution_count": 3,
   "id": "initial_id",
   "metadata": {
    "collapsed": true,
    "ExecuteTime": {
     "end_time": "2024-04-15T07:48:47.733967Z",
     "start_time": "2024-04-15T07:48:47.722485Z"
    }
   },
   "outputs": [],
   "source": [
    "from community_detection import print_list_attribute, get_bisection_stat\n",
    "import networkx as nx "
   ]
  },
  {
   "cell_type": "code",
   "outputs": [],
   "source": [
    "caltech = nx.read_gml(\"data/Caltech36.gml\")\n",
    "mit = nx.read_gml(\"data/MIT8.gml\")"
   ],
   "metadata": {
    "collapsed": false,
    "ExecuteTime": {
     "end_time": "2024-04-15T07:48:56.655970Z",
     "start_time": "2024-04-15T07:48:47.737730Z"
    }
   },
   "id": "949d8c6f28926d9a",
   "execution_count": 4
  },
  {
   "cell_type": "markdown",
   "source": [
    "## Avec Caltech"
   ],
   "metadata": {
    "collapsed": false
   },
   "id": "287638eadaf9772c"
  },
  {
   "cell_type": "code",
   "outputs": [
    {
     "name": "stdout",
     "output_type": "stream",
     "text": [
      "Year: 2008, size: 173\n",
      "Year: 2006, size: 153\n",
      "Year: 2005, size: 105\n",
      "Year: 2007, size: 133\n",
      "Year: 0, size: 114\n",
      "Year: 2009, size: 23\n",
      "Year: 2004, size: 39\n",
      "Year: 2003, size: 10\n",
      "Year: 2001, size: 3\n",
      "Year: 1968, size: 1\n",
      "Year: 1976, size: 1\n",
      "Year: 2002, size: 7\n",
      "Year: 2010, size: 2\n",
      "Year: 1979, size: 1\n",
      "Year: 1996, size: 1\n",
      "Year: 1984, size: 1\n",
      "Year: 1999, size: 1\n",
      "Year: 1993, size: 1\n"
     ]
    }
   ],
   "source": [
    "print_list_attribute(\"year\", caltech)"
   ],
   "metadata": {
    "collapsed": false,
    "ExecuteTime": {
     "end_time": "2024-04-15T07:49:17.210989Z",
     "start_time": "2024-04-15T07:49:17.207245Z"
    }
   },
   "id": "acfee53d574b38c1",
   "execution_count": 5
  },
  {
   "cell_type": "markdown",
   "source": [
    "Il y a des groupes mixtes pour les années proches :"
   ],
   "metadata": {
    "collapsed": false
   },
   "id": "d7f19b830d8cc1d"
  },
  {
   "cell_type": "code",
   "outputs": [
    {
     "data": {
      "text/plain": "[(163, 54, 46, 0.23, (0.74, 0.55)), (163, 52, 48, 0.23, (0.74, 0.55))]"
     },
     "execution_count": 10,
     "metadata": {},
     "output_type": "execute_result"
    }
   ],
   "source": [
    "get_bisection_stat(caltech, \"year\", [2008, 2006])"
   ],
   "metadata": {
    "collapsed": false,
    "ExecuteTime": {
     "end_time": "2024-04-15T07:52:38.245471Z",
     "start_time": "2024-04-15T07:52:38.128131Z"
    }
   },
   "id": "4cf2d4a134b1399b",
   "execution_count": 10
  },
  {
   "cell_type": "code",
   "outputs": [
    {
     "data": {
      "text/plain": "[(1, 0, 100, 0.35, (0.52, 0.85)),\n (58, 40, 60, 0.35, (0.52, 0.85)),\n (41, 71, 29, 0.35, (0.52, 0.85)),\n (60, 43, 57, 0.35, (0.52, 0.85)),\n (30, 37, 63, 0.35, (0.52, 0.85)),\n (1, 100, 0, 0.35, (0.52, 0.85)),\n (73, 55, 45, 0.35, (0.52, 0.85)),\n (1, 0, 100, 0.35, (0.52, 0.85)),\n (17, 100, 0, 0.35, (0.52, 0.85)),\n (43, 60, 40, 0.35, (0.52, 0.85)),\n (1, 0, 100, 0.35, (0.52, 0.85))]"
     },
     "execution_count": 7,
     "metadata": {},
     "output_type": "execute_result"
    }
   ],
   "source": [
    "get_bisection_stat(caltech, \"year\", [2008, 2006], nx.community.louvain_communities)"
   ],
   "metadata": {
    "collapsed": false,
    "ExecuteTime": {
     "end_time": "2024-04-15T07:50:17.025017Z",
     "start_time": "2024-04-15T07:50:16.893426Z"
    }
   },
   "id": "275e85aced12d41",
   "execution_count": 7
  },
  {
   "cell_type": "markdown",
   "source": [
    "Tandis que les groupes sont très homogènes pour des années éloignées : "
   ],
   "metadata": {
    "collapsed": false
   },
   "id": "76566ab74595ff54"
  },
  {
   "cell_type": "code",
   "outputs": [
    {
     "data": {
      "text/plain": "[(31, 0, 100, 0.48, (0.98, 0.61)), (31, 74, 26, 0.48, (0.98, 0.61))]"
     },
     "execution_count": 8,
     "metadata": {},
     "output_type": "execute_result"
    }
   ],
   "source": [
    "get_bisection_stat(caltech, \"year\", [2009, 2004])"
   ],
   "metadata": {
    "collapsed": false,
    "ExecuteTime": {
     "end_time": "2024-04-15T07:50:59.246229Z",
     "start_time": "2024-04-15T07:50:59.190896Z"
    }
   },
   "id": "23bf392265a50cb8",
   "execution_count": 8
  },
  {
   "cell_type": "code",
   "outputs": [
    {
     "data": {
      "text/plain": "[(1, 100, 0, 0.55, (0.83, 0.84)),\n (1, 0, 100, 0.55, (0.83, 0.84)),\n (13, 0, 100, 0.55, (0.83, 0.84)),\n (17, 76, 24, 0.55, (0.83, 0.84)),\n (1, 100, 0, 0.55, (0.83, 0.84)),\n (1, 0, 100, 0.55, (0.83, 0.84)),\n (20, 0, 100, 0.55, (0.83, 0.84)),\n (8, 100, 0, 0.55, (0.83, 0.84))]"
     },
     "execution_count": 9,
     "metadata": {},
     "output_type": "execute_result"
    }
   ],
   "source": [
    "get_bisection_stat(caltech, \"year\", [2009, 2004], nx.community.louvain_communities)"
   ],
   "metadata": {
    "collapsed": false,
    "ExecuteTime": {
     "end_time": "2024-04-15T07:51:16.255390Z",
     "start_time": "2024-04-15T07:51:16.187123Z"
    }
   },
   "id": "10cf80fa0cfcb5e1",
   "execution_count": 9
  },
  {
   "cell_type": "markdown",
   "source": [
    "## Avec le MIT"
   ],
   "metadata": {
    "collapsed": false
   },
   "id": "71cff56e38a60cb8"
  },
  {
   "cell_type": "code",
   "outputs": [
    {
     "name": "stdout",
     "output_type": "stream",
     "text": [
      "Year: 2009, size: 867\n",
      "Year: 2004, size: 528\n",
      "Year: 2008, size: 1006\n",
      "Year: 2002, size: 90\n",
      "Year: 2007, size: 889\n",
      "Year: 0, size: 1142\n",
      "Year: 2006, size: 840\n",
      "Year: 2000, size: 23\n",
      "Year: 2005, size: 744\n",
      "Year: 2003, size: 179\n",
      "Year: 2001, size: 29\n",
      "Year: 2010, size: 58\n",
      "Year: 1996, size: 4\n",
      "Year: 1968, size: 2\n",
      "Year: 1975, size: 3\n",
      "Year: 1999, size: 7\n",
      "Year: 1987, size: 1\n",
      "Year: 1977, size: 3\n",
      "Year: 1998, size: 4\n",
      "Year: 1976, size: 1\n",
      "Year: 1981, size: 2\n",
      "Year: 1989, size: 1\n",
      "Year: 1995, size: 4\n",
      "Year: 1997, size: 3\n",
      "Year: 1994, size: 2\n",
      "Year: 1980, size: 1\n",
      "Year: 1990, size: 1\n",
      "Year: 1993, size: 1\n",
      "Year: 1928, size: 1\n",
      "Year: 1947, size: 1\n",
      "Year: 1900, size: 1\n",
      "Year: 1956, size: 1\n",
      "Year: 1979, size: 1\n"
     ]
    }
   ],
   "source": [
    "print_list_attribute(\"year\", mit)"
   ],
   "metadata": {
    "collapsed": false,
    "ExecuteTime": {
     "end_time": "2024-04-15T07:53:43.778103Z",
     "start_time": "2024-04-15T07:53:43.769341Z"
    }
   },
   "id": "17ed23219bfc5f49",
   "execution_count": 11
  },
  {
   "cell_type": "markdown",
   "source": [
    "On remarque que ce n'est pas le cas du MIT, les années se mélangent moins : "
   ],
   "metadata": {
    "collapsed": false
   },
   "id": "c80c32380e5376ea"
  },
  {
   "cell_type": "code",
   "outputs": [
    {
     "data": {
      "text/plain": "[(936, 8, 92, 0.36, (0.89, 0.52)), (937, 99, 1, 0.36, (0.89, 0.52))]"
     },
     "execution_count": 12,
     "metadata": {},
     "output_type": "execute_result"
    }
   ],
   "source": [
    "get_bisection_stat(mit, \"year\", [2008, 2009])"
   ],
   "metadata": {
    "collapsed": false,
    "ExecuteTime": {
     "end_time": "2024-04-15T07:54:01.728308Z",
     "start_time": "2024-04-15T07:54:00.815540Z"
    }
   },
   "id": "b58a2ce1f419f0d3",
   "execution_count": 12
  },
  {
   "cell_type": "code",
   "outputs": [
    {
     "data": {
      "text/plain": "[(1, 100, 0, 0.41, (0.64, 0.76)),\n (1, 100, 0, 0.41, (0.64, 0.76)),\n (154, 94, 6, 0.41, (0.64, 0.76)),\n (13, 85, 15, 0.41, (0.64, 0.76)),\n (1, 100, 0, 0.41, (0.64, 0.76)),\n (2, 0, 100, 0.41, (0.64, 0.76)),\n (1, 100, 0, 0.41, (0.64, 0.76)),\n (1, 100, 0, 0.41, (0.64, 0.76)),\n (300, 94, 6, 0.41, (0.64, 0.76)),\n (761, 1, 99, 0.41, (0.64, 0.76)),\n (73, 11, 89, 0.41, (0.64, 0.76)),\n (394, 97, 3, 0.41, (0.64, 0.76)),\n (1, 100, 0, 0.41, (0.64, 0.76)),\n (1, 100, 0, 0.41, (0.64, 0.76)),\n (1, 0, 100, 0.41, (0.64, 0.76)),\n (1, 100, 0, 0.41, (0.64, 0.76)),\n (1, 100, 0, 0.41, (0.64, 0.76)),\n (1, 100, 0, 0.41, (0.64, 0.76)),\n (1, 100, 0, 0.41, (0.64, 0.76)),\n (1, 100, 0, 0.41, (0.64, 0.76)),\n (1, 0, 100, 0.41, (0.64, 0.76)),\n (1, 100, 0, 0.41, (0.64, 0.76)),\n (161, 97, 3, 0.41, (0.64, 0.76))]"
     },
     "execution_count": 13,
     "metadata": {},
     "output_type": "execute_result"
    }
   ],
   "source": [
    "get_bisection_stat(mit, \"year\", [2008, 2009], nx.community.louvain_communities)"
   ],
   "metadata": {
    "collapsed": false,
    "ExecuteTime": {
     "end_time": "2024-04-15T07:54:34.975948Z",
     "start_time": "2024-04-15T07:54:33.644894Z"
    }
   },
   "id": "28ac5d189c28ef",
   "execution_count": 13
  },
  {
   "cell_type": "code",
   "outputs": [],
   "source": [],
   "metadata": {
    "collapsed": false
   },
   "id": "746c857d8bd90d47"
  }
 ],
 "metadata": {
  "kernelspec": {
   "display_name": "Python 3",
   "language": "python",
   "name": "python3"
  },
  "language_info": {
   "codemirror_mode": {
    "name": "ipython",
    "version": 2
   },
   "file_extension": ".py",
   "mimetype": "text/x-python",
   "name": "python",
   "nbconvert_exporter": "python",
   "pygments_lexer": "ipython2",
   "version": "2.7.6"
  }
 },
 "nbformat": 4,
 "nbformat_minor": 5
}

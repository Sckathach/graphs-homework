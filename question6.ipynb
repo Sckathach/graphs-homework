{
 "cells": [
  {
   "cell_type": "code",
   "execution_count": null,
   "id": "initial_id",
   "metadata": {
    "collapsed": true
   },
   "outputs": [],
   "source": [
    "import copy\n",
    "\n",
    "import networkx as nx "
   ]
  },
  {
   "cell_type": "code",
   "outputs": [],
   "source": [
    "def list_attribute(attribute, graph): \n",
    "    k = []\n",
    "    v = []\n",
    "    for node in graph:\n",
    "        a = graph.nodes[node][attribute]\n",
    "        if a not in k:\n",
    "            k.append(a)\n",
    "            v.append(1)\n",
    "        else: \n",
    "            v[k.index(a)] += 1\n",
    "    return k, v"
   ],
   "metadata": {
    "collapsed": false
   },
   "id": "99d17138ed55d165",
   "execution_count": null
  },
  {
   "cell_type": "code",
   "outputs": [],
   "source": [
    "def get_subgraph_by_attribute(attribute, keys, graph):\n",
    "    g = copy.deepcopy(graph)\n",
    "    for node in graph:\n",
    "        if graph.nodes[node][attribute] not in keys:\n",
    "            g.remove_node(node)\n",
    "    return g "
   ],
   "metadata": {
    "collapsed": false
   },
   "id": "ddce3d1ab84be176",
   "execution_count": null
  },
  {
   "cell_type": "code",
   "outputs": [],
   "source": [
    "def newman_girvan(g, n_communities=2):\n",
    "    max_iter = nx.number_of_edges(g)\n",
    "    for _ in range(max_iter):\n",
    "        edge_bw = nx.edge_betweenness_centrality(g)\n",
    "        edge_to_remove = sorted(edge_bw.items(), key=lambda x: x[1])[-1][0]\n",
    "        g.remove_edge(edge_to_remove[0], edge_to_remove[1])\n",
    "        if nx.number_connected_components(g) >= n_communities:\n",
    "            s = [list(g.subgraph(c).copy()) for c in nx.connected_components(g)]\n",
    "            return s "
   ],
   "metadata": {
    "collapsed": false
   },
   "id": "c4c0343ca23eeef5",
   "execution_count": null
  },
  {
   "cell_type": "code",
   "outputs": [],
   "source": [
    "graph = nx.read_gml(\"data/Caltech36.gml\")"
   ],
   "metadata": {
    "collapsed": false
   },
   "id": "949d8c6f28926d9a",
   "execution_count": null
  },
  {
   "cell_type": "code",
   "outputs": [],
   "source": [
    "subgraph = get_subgraph_by_attribute(\"year\", [2008, 2006], graph)\n",
    "communities = newman_girvan(subgraph)\n",
    "for c in communities: \n",
    "    print(len(c))"
   ],
   "metadata": {
    "collapsed": false
   },
   "id": "65864c5ee9f05636",
   "execution_count": null
  },
  {
   "cell_type": "code",
   "outputs": [],
   "source": [
    "communities_nx_gn_generator = nx.community.girvan_newman(subgraph)\n",
    "communities_nx_gn = next(communities_nx_gn_generator)\n",
    "for c in communities_nx_gn:\n",
    "    print(len(c))"
   ],
   "metadata": {
    "collapsed": false
   },
   "id": "af8c782dd16af6cc",
   "execution_count": null
  },
  {
   "cell_type": "code",
   "outputs": [],
   "source": [
    "def get_bisection_stat(graph, attribute, keys):\n",
    "    subgraph = get_subgraph_by_attribute(attribute, keys, graph)\n",
    "    communities = nx.community.kernighan_lin_bisection(subgraph)\n",
    "    r = []\n",
    "    for c in communities:\n",
    "        k1, k2 = 0, 0\n",
    "        for node in c:\n",
    "            if subgraph.nodes[node][attribute] == keys[0]:\n",
    "                k1 += 1\n",
    "            else:\n",
    "                k2 += 1\n",
    "        r.append((k1/(k1+k2)*100, k2/(k1+k2)*100))\n",
    "    return r"
   ],
   "metadata": {
    "collapsed": false,
    "ExecuteTime": {
     "end_time": "2024-04-14T20:49:41.506300Z",
     "start_time": "2024-04-14T20:49:41.497239Z"
    }
   },
   "id": "741606b4be4fd65d",
   "execution_count": 58
  },
  {
   "cell_type": "code",
   "outputs": [
    {
     "name": "stdout",
     "output_type": "stream",
     "text": [
      "Year: 2008, size: 173\n",
      "Year: 2006, size: 153\n",
      "Year: 2005, size: 105\n",
      "Year: 2007, size: 133\n",
      "Year: 0, size: 114\n",
      "Year: 2009, size: 23\n",
      "Year: 2004, size: 39\n",
      "Year: 2003, size: 10\n",
      "Year: 2001, size: 3\n",
      "Year: 1968, size: 1\n",
      "Year: 1976, size: 1\n",
      "Year: 2002, size: 7\n",
      "Year: 2010, size: 2\n",
      "Year: 1979, size: 1\n",
      "Year: 1996, size: 1\n",
      "Year: 1984, size: 1\n",
      "Year: 1999, size: 1\n",
      "Year: 1993, size: 1\n"
     ]
    }
   ],
   "source": [
    "k, v = list_attribute(\"year\", graph)\n",
    "for x, y in zip(k, v):\n",
    "    print(f\"Year: {x}, size: {y}\")"
   ],
   "metadata": {
    "collapsed": false,
    "ExecuteTime": {
     "end_time": "2024-04-14T20:50:23.956064Z",
     "start_time": "2024-04-14T20:50:23.943952Z"
    }
   },
   "id": "72a59488130ca42e",
   "execution_count": 59
  },
  {
   "cell_type": "code",
   "outputs": [
    {
     "data": {
      "text/plain": "[(65.6441717791411, 34.355828220858896),\n (40.49079754601227, 59.50920245398773)]"
     },
     "execution_count": 60,
     "metadata": {},
     "output_type": "execute_result"
    }
   ],
   "source": [
    "get_bisection_stat(graph, \"year\", [2008, 2006])"
   ],
   "metadata": {
    "collapsed": false,
    "ExecuteTime": {
     "end_time": "2024-04-14T20:50:37.465778Z",
     "start_time": "2024-04-14T20:50:37.389035Z"
    }
   },
   "id": "657a702f693d0748",
   "execution_count": 60
  },
  {
   "cell_type": "code",
   "outputs": [
    {
     "data": {
      "text/plain": "[(25.179856115107913, 74.82014388489209),\n (99.28057553956835, 0.7194244604316548)]"
     },
     "execution_count": 61,
     "metadata": {},
     "output_type": "execute_result"
    }
   ],
   "source": [
    "get_bisection_stat(graph, \"year\", [2008, 2005])"
   ],
   "metadata": {
    "collapsed": false,
    "ExecuteTime": {
     "end_time": "2024-04-14T20:50:55.864389Z",
     "start_time": "2024-04-14T20:50:55.771672Z"
    }
   },
   "id": "cb129e615c168e36",
   "execution_count": 61
  },
  {
   "cell_type": "code",
   "outputs": [],
   "source": [],
   "metadata": {
    "collapsed": false
   },
   "id": "c3c6260ef80555c7"
  }
 ],
 "metadata": {
  "kernelspec": {
   "display_name": "Python 3",
   "language": "python",
   "name": "python3"
  },
  "language_info": {
   "codemirror_mode": {
    "name": "ipython",
    "version": 2
   },
   "file_extension": ".py",
   "mimetype": "text/x-python",
   "name": "python",
   "nbconvert_exporter": "python",
   "pygments_lexer": "ipython2",
   "version": "2.7.6"
  }
 },
 "nbformat": 4,
 "nbformat_minor": 5
}
